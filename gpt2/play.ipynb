{
  "nbformat": 4,
  "nbformat_minor": 0,
  "metadata": {
    "colab": {
      "provenance": [],
      "authorship_tag": "ABX9TyNi2QgZfkhbs/CejfTV+kH5"
    },
    "kernelspec": {
      "name": "python3",
      "display_name": "Python 3"
    },
    "language_info": {
      "name": "python"
    }
  },
  "cells": [
    {
      "cell_type": "code",
      "execution_count": 1,
      "metadata": {
        "id": "2a30FSzoeAoQ"
      },
      "outputs": [],
      "source": [
        "from transformers import GPT2LMHeadModel"
      ]
    },
    {
      "cell_type": "code",
      "source": [
        "model = GPT2LMHeadModel.from_pretrained(\"gpt2\")\n",
        "print(\"Number of params:\", sum(p.numel() for p in model.parameters()))"
      ],
      "metadata": {
        "colab": {
          "base_uri": "https://localhost:8080/",
          "height": 255,
          "referenced_widgets": [
            "110ed123dff04944b4f692e287da1df0",
            "e78ccb0d454e44f5bd15608c8f67dd98",
            "26fc2e8534f647b2b4e52ffe01022543",
            "81c8270f43b644c6b2652d1c8d1126f0",
            "a645cb2c882c43bb9e74e89ae9bd6a33",
            "44f1cce7d21949feb0ae4b89fcd11823",
            "f8a5a3e7cddf428981dd7185709ffa32",
            "0ab7a57aed284bd3954363622daaa9d1",
            "5081fdc4880c4f5e9cfb59c545f3e4ab",
            "4afb2c4f1db444cab458544eeeee9c9b",
            "e040eb094da643f0b330a06dfc1b2413",
            "2f5233523ee24ce891ca4560c4f865a0",
            "e1a516602c6640f5ba952544565f7744",
            "c83b5434f3de4510b8bd5707d013e1f8",
            "eb7d05153f6c4ce680092f35d3ab9d0e",
            "4a032147ff5a4ebebfbfe9b84f1b8afc",
            "4093e980735d400d8bf4ee4f312747d2",
            "304d933875a84bef92d6949dfa4a17de",
            "7106453b1a2444bf90c4dfe43302d4d3",
            "3289848d6ac740cb831bb46cd7a61173",
            "21a0e531121c44d68522358ae005c507",
            "ed610da7b2b8435e912b9a7772185df0",
            "cecf2763f8e74e16a003c01dbb0b178b",
            "4f2d8ac055c0415c8db061c2f91575c9",
            "0ebfbcb84d064596b9a62b48688cad8f",
            "fbe618c2fa9646629d1ef050ececa5e9",
            "b5b3bc9858a34e8d8576fcd6526e63e5",
            "3d9d5693745b4f98811bf0c1b08d9465",
            "a95bb1f9b43146c689a17285fa5fa6a6",
            "8f84d01b2048471995415fe4304395a5",
            "638cc5405b364fc9bcaaf50f73f857cb",
            "d0a2ac518ea74206a798b0dbee844239",
            "db952c7ccd714821badc3a19c01c2a6a"
          ]
        },
        "id": "cTaV17x-jAAX",
        "outputId": "41cd8e0d-9408-4b22-9687-c85c2a45d6ae"
      },
      "execution_count": 2,
      "outputs": [
        {
          "output_type": "stream",
          "name": "stderr",
          "text": [
            "/usr/local/lib/python3.11/dist-packages/huggingface_hub/utils/_auth.py:94: UserWarning: \n",
            "The secret `HF_TOKEN` does not exist in your Colab secrets.\n",
            "To authenticate with the Hugging Face Hub, create a token in your settings tab (https://huggingface.co/settings/tokens), set it as secret in your Google Colab and restart your session.\n",
            "You will be able to reuse this secret in all of your notebooks.\n",
            "Please note that authentication is recommended but still optional to access public models or datasets.\n",
            "  warnings.warn(\n"
          ]
        },
        {
          "output_type": "display_data",
          "data": {
            "text/plain": [
              "config.json:   0%|          | 0.00/665 [00:00<?, ?B/s]"
            ],
            "application/vnd.jupyter.widget-view+json": {
              "version_major": 2,
              "version_minor": 0,
              "model_id": "110ed123dff04944b4f692e287da1df0"
            }
          },
          "metadata": {}
        },
        {
          "output_type": "display_data",
          "data": {
            "text/plain": [
              "model.safetensors:   0%|          | 0.00/548M [00:00<?, ?B/s]"
            ],
            "application/vnd.jupyter.widget-view+json": {
              "version_major": 2,
              "version_minor": 0,
              "model_id": "2f5233523ee24ce891ca4560c4f865a0"
            }
          },
          "metadata": {}
        },
        {
          "output_type": "display_data",
          "data": {
            "text/plain": [
              "generation_config.json:   0%|          | 0.00/124 [00:00<?, ?B/s]"
            ],
            "application/vnd.jupyter.widget-view+json": {
              "version_major": 2,
              "version_minor": 0,
              "model_id": "cecf2763f8e74e16a003c01dbb0b178b"
            }
          },
          "metadata": {}
        },
        {
          "output_type": "stream",
          "name": "stdout",
          "text": [
            "Number of params: 124439808\n"
          ]
        }
      ]
    },
    {
      "cell_type": "code",
      "source": [],
      "metadata": {
        "id": "ylaD_uQrjQHe"
      },
      "execution_count": null,
      "outputs": []
    }
  ]
}